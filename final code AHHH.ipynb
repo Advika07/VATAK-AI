{
 "cells": [
  {
   "cell_type": "code",
   "execution_count": 1,
   "id": "aa2ad035-817a-4304-ac49-a7e26f4d8e92",
   "metadata": {},
   "outputs": [
    {
     "name": "stdout",
     "output_type": "stream",
     "text": [
      "Requirement already satisfied: PyPDF2 in c:\\users\\advik\\anaconda3\\lib\\site-packages (3.0.1)\n",
      "Requirement already satisfied: pytesseract in c:\\users\\advik\\anaconda3\\lib\\site-packages (0.3.10)\n",
      "Requirement already satisfied: pillow in c:\\users\\advik\\anaconda3\\lib\\site-packages (10.2.0)\n",
      "Requirement already satisfied: packaging>=21.3 in c:\\users\\advik\\anaconda3\\lib\\site-packages (from pytesseract) (23.1)\n",
      "Note: you may need to restart the kernel to use updated packages.\n"
     ]
    }
   ],
   "source": [
    "pip install PyPDF2 pytesseract pillow"
   ]
  },
  {
   "cell_type": "code",
   "execution_count": 2,
   "id": "863d3efa-64de-4222-91b1-bf1a94871088",
   "metadata": {},
   "outputs": [],
   "source": [
    "import pytesseract\n",
    "pytesseract.pytesseract.tesseract_cmd = r'\"C:\\Program Files\\Tesseract-OCR\"'"
   ]
  },
  {
   "cell_type": "code",
   "execution_count": 4,
   "id": "651115ae",
   "metadata": {},
   "outputs": [
    {
     "name": "stdin",
     "output_type": "stream",
     "text": [
      "Enter your degree:  EEE\n"
     ]
    },
    {
     "data": {
      "application/vnd.jupyter.widget-view+json": {
       "model_id": "0e3c5cb6e155414e8b21caefc10970fc",
       "version_major": 2,
       "version_minor": 0
      },
      "text/plain": [
       "FileUpload(value=(), description='Upload')"
      ]
     },
     "metadata": {},
     "output_type": "display_data"
    }
   ],
   "source": [
    "import pandas as pd\n",
    "from itertools import combinations\n",
    "import random\n",
    "import matplotlib.pyplot as plt\n",
    "from textwrap import wrap\n",
    "from datetime import datetime\n",
    "import pytesseract\n",
    "from PIL import Image\n",
    "import io\n",
    "from IPython.display import display\n",
    "import ipywidgets as widgets\n",
    "\n",
    "# Load the DataFrame from CSV\n",
    "df = pd.read_csv('starsdb.csv')\n",
    "\n",
    "def filter_courses(df, degree, courses_taken):\n",
    "    # Filter the DataFrame based on degree and courses taken\n",
    "    filtered_df = df[(df['Programme'] == degree) & \n",
    "                     (~df['Course Code'].isin(courses_taken))]\n",
    "    return filtered_df\n",
    "\n",
    "# User inputs\n",
    "degree = input(\"Enter your degree: \")\n",
    "\n",
    "# Define a function to handle the image upload\n",
    "def handle_image_upload(change):\n",
    "    global courses_taken\n",
    "    # Get the uploaded image\n",
    "    uploaded_image = change['new'][0]\n",
    "    \n",
    "    # Read the image from the uploaded file\n",
    "    img = Image.open(io.BytesIO(uploaded_image['content']))\n",
    "    \n",
    "    # Use Tesseract to do OCR on the image\n",
    "    text = pytesseract.image_to_string(img)\n",
    "    \n",
    "    # Print the extracted text\n",
    "    print(\"Extracted text:\")\n",
    "    print(text)\n",
    "    \n",
    "    # Split the text into lines\n",
    "    lines = text.strip().split('\\n')\n",
    "\n",
    "    # Extract the column you want (e.g., the second column)\n",
    "    column_index = 2  # Adjust index based on zero-based indexing\n",
    "    courses_taken = [line.split()[column_index] for line in lines[2:]]  # Skip header line\n",
    "\n",
    "    # Print the extracted column data\n",
    "    print(\"Extracted courses taken:\")\n",
    "    print(courses_taken)\n",
    "\n",
    "# Create a FileUpload widget\n",
    "file_upload = widgets.FileUpload()\n",
    "\n",
    "# Register the function to handle the image upload event\n",
    "file_upload.observe(handle_image_upload, names='value')\n",
    "\n",
    "# Display the FileUpload widget\n",
    "display(file_upload)\n"
   ]
  },
  {
   "cell_type": "code",
   "execution_count": 5,
   "id": "88d810dd-9977-49bd-bf03-7142cb28a11a",
   "metadata": {},
   "outputs": [
    {
     "ename": "NameError",
     "evalue": "name 'text' is not defined",
     "output_type": "error",
     "traceback": [
      "\u001b[1;31m---------------------------------------------------------------------------\u001b[0m",
      "\u001b[1;31mNameError\u001b[0m                                 Traceback (most recent call last)",
      "Cell \u001b[1;32mIn[5], line 1\u001b[0m\n\u001b[1;32m----> 1\u001b[0m \u001b[38;5;28mprint\u001b[39m(text)\n",
      "\u001b[1;31mNameError\u001b[0m: name 'text' is not defined"
     ]
    }
   ],
   "source": [
    "print(text)"
   ]
  },
  {
   "cell_type": "code",
   "execution_count": 10,
   "id": "546aebca-68bc-4bf8-8dbf-39569c59b793",
   "metadata": {},
   "outputs": [
    {
     "data": {
      "application/vnd.jupyter.widget-view+json": {
       "model_id": "fa59c9e573364afa9cc2cfe4aebea54e",
       "version_major": 2,
       "version_minor": 0
      },
      "text/plain": [
       "Text(value='', description='Enter your degree:')"
      ]
     },
     "metadata": {},
     "output_type": "display_data"
    },
    {
     "data": {
      "application/vnd.jupyter.widget-view+json": {
       "model_id": "a12fc3405be94327bbc44fefde327e4e",
       "version_major": 2,
       "version_minor": 0
      },
      "text/plain": [
       "FileUpload(value=(), description='Upload')"
      ]
     },
     "metadata": {},
     "output_type": "display_data"
    },
    {
     "data": {
      "application/vnd.jupyter.widget-view+json": {
       "model_id": "eecf276612b649c7b15a407dcdf0c023",
       "version_major": 2,
       "version_minor": 0
      },
      "text/plain": [
       "Textarea(value='', description='Extracted Text:', disabled=True)"
      ]
     },
     "metadata": {},
     "output_type": "display_data"
    }
   ],
   "source": [
    "\n",
    "import pandas as pd\n",
    "import pytesseract\n",
    "from PIL import Image\n",
    "import io\n",
    "from IPython.display import display\n",
    "import ipywidgets as widgets\n",
    "\n",
    "# Load the DataFrame from CSV\n",
    "df = pd.read_csv('starsdb.csv')\n",
    "\n",
    "def filter_courses(df, degree, courses_taken):\n",
    "    # Filter the DataFrame based on degree and courses taken\n",
    "    filtered_df = df[(df['Programme'] == degree) & \n",
    "                     (~df['Course Code'].isin(courses_taken))]\n",
    "    return filtered_df\n",
    "\n",
    "# Define a function to handle the image upload\n",
    "def handle_image_upload(change):\n",
    "    global courses_taken, degree\n",
    "    # Get the uploaded image\n",
    "    uploaded_image = change['new'][0]\n",
    "    \n",
    "    # Read the image from the uploaded file\n",
    "    img = Image.open(io.BytesIO(uploaded_image['content']))\n",
    "    \n",
    "    try:\n",
    "        # Use Tesseract to do OCR on the image\n",
    "        text = pytesseract.image_to_string(img)\n",
    "        # Display the extracted text\n",
    "        extracted_text_widget.value = text\n",
    "        # Print the extracted text\n",
    "        print(\"Extracted text:\")\n",
    "        print(text)\n",
    "        \n",
    "        # Split the text into lines\n",
    "        lines = text.strip().split('\\n')\n",
    "\n",
    "        # Extract the column you want (e.g., the second column)\n",
    "        column_index = 2  # Adjust index based on zero-based indexing\n",
    "        courses_taken = [line.split()[column_index] for line in lines[2:]]  # Skip header line\n",
    "\n",
    "        # Print the extracted column data\n",
    "        print(\"Extracted courses taken:\")\n",
    "        print(courses_taken)\n",
    "        \n",
    "        # Print courses_taken here if you want to see the updated value immediately after image upload\n",
    "        # print(courses_taken)\n",
    "    except Exception as e:\n",
    "        # Handle any exceptions that occur during text extraction\n",
    "        print(\"Error extracting text:\", e)\n",
    "\n",
    "# Create a Text widget for entering the degree\n",
    "degree_text = widgets.Text(description='Enter your degree:', value='')\n",
    "\n",
    "# Create a FileUpload widget\n",
    "file_upload = widgets.FileUpload()\n",
    "\n",
    "# Create a Text widget to display the extracted text\n",
    "extracted_text_widget = widgets.Textarea(description='Extracted Text:', disabled=True)\n",
    "\n",
    "# Register the function to handle the image upload event\n",
    "file_upload.observe(handle_image_upload, names='value')\n",
    "\n",
    "# Define a function to update the degree variable\n",
    "def update_degree(change):\n",
    "    global degree\n",
    "    degree = change.new\n",
    "\n",
    "# Register the function to update the degree variable\n",
    "degree_text.observe(update_degree, names='value')\n",
    "\n",
    "# Display the widgets\n",
    "display(degree_text)\n",
    "display(file_upload)\n",
    "display(extracted_text_widget)\n"
   ]
  },
  {
   "cell_type": "code",
   "execution_count": 7,
   "id": "774c5544",
   "metadata": {},
   "outputs": [
    {
     "name": "stdout",
     "output_type": "stream",
     "text": [
      "Total AU: 16\n",
      "[]\n"
     ]
    },
    {
     "data": {
      "image/png": "[encoded data removed]",
      "text/plain": [
       "<Figure size 1000x600 with 1 Axes>"
      ]
     },
     "metadata": {},
     "output_type": "display_data"
    }
   ],
   "source": [
    "\n",
    "# Filter the DataFrame\n",
    "filtered_df = filter_courses(df, degree, courses_taken)\n",
    "\n",
    "# Use the filtered DataFrame for further processing\n",
    "starsdb = filtered_df\n",
    "\n",
    "def find_combinations(db, target_au):\n",
    "    # Drop duplicates to avoid counting courses multiple times\n",
    "    starsdb_no_duplicates = db.drop_duplicates(subset=['Course Code'])\n",
    "    courses = starsdb_no_duplicates['Course Code'].tolist()\n",
    "    au_values = starsdb_no_duplicates['AU'].tolist()\n",
    "    combined_list = list(zip(courses, au_values))\n",
    "    \n",
    "    possible_combinations = []\n",
    "    unique_combinations = []\n",
    "\n",
    "    # Find combinations of courses that add up to the target AU\n",
    "    for r in range(1, len(combined_list) + 1):\n",
    "        for combo in combinations(combined_list, r):\n",
    "            if not check_collision(combo):\n",
    "                total_au = sum(au for _, au in combo)\n",
    "                if total_au == target_au:\n",
    "                    courses_only = [course for course, _ in combo]\n",
    "                    possible_combinations.append(courses_only)\n",
    "\n",
    "    # Remove duplicates from possible combinations\n",
    "    for sublist in possible_combinations:\n",
    "        unique_sublist = list(set(sublist))\n",
    "        unique_sublist.sort()\n",
    "        if unique_sublist not in unique_combinations:\n",
    "            unique_combinations.append(unique_sublist)\n",
    "\n",
    "    return unique_combinations\n",
    "\n",
    "def check_collision(combination):\n",
    "    \"\"\"\n",
    "    Check if there is any collision (day, start time, end time) within the given combination of courses.\n",
    "    \"\"\"\n",
    "    schedule = {}\n",
    "    for course, _ in combination:\n",
    "        course_info = starsdb[starsdb['Course Code'] == course].iloc[0]\n",
    "        day = course_info['Day']\n",
    "        start_time = course_info['Start Time']\n",
    "        end_time = course_info['End Time']\n",
    "        for i in range(start_time, end_time):\n",
    "            if (day, i) in schedule:\n",
    "                return True  # Collision found\n",
    "            schedule[(day, i)] = True\n",
    "    return False  # No collision found\n",
    "\n",
    "total_au = int(input(\"Total AU: \"))\n",
    "print(find_combinations(starsdb, total_au))\n",
    "\n",
    "# Remove courses from filtered_df that are not present in starsdb\n",
    "filtered_df = filtered_df[filtered_df['Course Code'].isin(starsdb['Course Code'])]\n",
    "\n",
    "# Define the Course class\n",
    "class Course:\n",
    "    def __init__(self, code, name, start_time, end_time, day, venue):\n",
    "        self.code = code\n",
    "        self.name = name\n",
    "        self.start_time = start_time\n",
    "        self.end_time = end_time\n",
    "        self.day = day[:3].upper()  # Convert to uppercase for consistency\n",
    "        self.venue = venue\n",
    "\n",
    "\n",
    "# Function to generate a schedule based on a list of course modules\n",
    "def generate_schedule(course_modules):\n",
    "    schedule = []\n",
    "    for idx, course in enumerate(course_modules):\n",
    "        # Convert integer start time and end time to string before parsing\n",
    "        start_time = datetime.strptime(str(course['Start Time']), '%H%M').time()\n",
    "        end_time = datetime.strptime(str(course['End Time']), '%H%M').time()\n",
    "        schedule.append(Course(course['Course Code'], course['Title'], start_time, end_time, course['Day'], course['Venue']))\n",
    "    return schedule\n",
    "\n",
    "\n",
    "# Convert DataFrame to Course objects\n",
    "filtered_courses = filtered_df.to_dict('records')\n",
    "\n",
    "# Select a random combination of courses from filtered courses\n",
    "random_combination = random.choice(list(combinations(filtered_courses, 3)))\n",
    "\n",
    "# Generate schedule based on the random combination\n",
    "schedule = generate_schedule(random_combination)\n",
    "\n",
    "# Prepare data for Gantt chart\n",
    "days = ['MON', 'TUE', 'WED', 'THU', 'FRI']\n",
    "timings = list(range(8, 20))\n",
    "course_data = {day: [[] for _ in range(len(timings))] for day in days}\n",
    "\n",
    "# Fill in course data\n",
    "for course in schedule:\n",
    "    day_index = days.index(course.day)\n",
    "    for hour_index in range(course.start_time.hour - 8, course.end_time.hour - 8):\n",
    "        if hour_index >= 0 and hour_index < len(timings):\n",
    "            course_data[course.day][hour_index].append(course)\n",
    "\n",
    "# Plot Gantt chart\n",
    "fig, ax = plt.subplots(figsize=(10, 6))\n",
    "bar_height = 0.5\n",
    "\n",
    "for i, day in enumerate(days):\n",
    "    for j, hour in enumerate(timings):\n",
    "        courses = course_data[day][j]\n",
    "        num_courses = len(courses)\n",
    "        if num_courses > 0:\n",
    "            bar_width = 1 / (num_courses + 1)\n",
    "            for k, course in enumerate(courses):\n",
    "                left_pos = course.start_time.hour + k * bar_width\n",
    "                ax.barh(i, course.end_time.hour - course.start_time.hour, \n",
    "                         left=left_pos, height=bar_height, color='purple', edgecolor='black', align='center')\n",
    "                wrapped_text = \"\\n\".join(wrap(f\"{course.code} - {course.name}\\n{course.venue}\", width=20))\n",
    "                ax.text((course.start_time.hour + course.end_time.hour) / 2, i, wrapped_text, ha='center', va='center', fontsize=8, fontweight='bold', color='black')\n",
    "\n",
    "ax.set_xlabel('Time (hour)')\n",
    "ax.set_ylabel('Day')\n",
    "ax.set_title('Weekly Schedule Gantt Chart')\n",
    "ax.set_xlim(8, 20)\n",
    "ax.set_xticks(range(8, 21))\n",
    "ax.set_yticks(range(len(days)))\n",
    "ax.set_yticklabels(days)\n",
    "ax.grid(True)\n",
    "ax.set_facecolor('lightgrey')  # Set background color\n",
    "fig.patch.set_facecolor('lightgrey')  # Set figure background color\n",
    "ax.spines['bottom'].set_color('black')  # Set color of bottom spine\n",
    "ax.spines['top'].set_color('black')  # Set color of top spine\n",
    "ax.spines['left'].set_color('black')  # Set color of left spine\n",
    "ax.spines['right'].set_color('black')  # Set color of right spine\n",
    "plt.tight_layout()  # Adjust layout to prevent clipping of labels\n",
    "plt.show()\n"
   ]
  },
  {
   "cell_type": "code",
   "execution_count": null,
   "id": "31b5445e",
   "metadata": {},
   "outputs": [],
   "source": [
    "\n"
   ]
  },
  {
   "cell_type": "code",
   "execution_count": null,
   "id": "5582c08f",
   "metadata": {},
   "outputs": [],
   "source": []
  }
 ],
 "metadata": {
  "kernelspec": {
   "display_name": "Python 3 (ipykernel)",
   "language": "python",
   "name": "python3"
  },
  "language_info": {
   "codemirror_mode": {
    "name": "ipython",
    "version": 3
   },
   "file_extension": ".py",
   "mimetype": "text/x-python",
   "name": "python",
   "nbconvert_exporter": "python",
   "pygments_lexer": "ipython3",
   "version": "3.11.7"
  }
 },
 "nbformat": 4,
 "nbformat_minor": 5
}
